{
 "cells": [
  {
   "attachments": {},
   "cell_type": "markdown",
   "metadata": {},
   "source": [
    "install openslide on Fedora:\n",
    "\n",
    "```bash\n",
    "sudo dnf install python3-openslide\n",
    "pip install openslide-python, pprint\n",
    "```\n",
    "\n",
    "install dependency on Windows:\n",
    "```bash\n",
    "pip install openslide-python\n",
    "```"
   ]
  },
  {
   "cell_type": "code",
   "execution_count": 2,
   "metadata": {},
   "outputs": [
    {
     "name": "stdout",
     "output_type": "stream",
     "text": [
      "platform= Windows\n",
      "cwd= e:\\wangningyu\\BALF\\big_img_in\n",
      "PATH= e:\\wangningyu\\BALF\\big_img_in\\lib\\openslide-win64-20171122\\bin;e:\\wangningyu\\BALF\\big_img_in\\lib\\openslide-win64-20171122\\bin;c:\\Users\\wangningyu\\miniconda3;C:\\Users\\wangningyu\\miniconda3;C:\\Users\\wangningyu\\miniconda3\\Library\\mingw-w64\\bin;C:\\Users\\wangningyu\\miniconda3\\Library\\usr\\bin;C:\\Users\\wangningyu\\miniconda3\\Library\\bin;C:\\Users\\wangningyu\\miniconda3\\Scripts;C:\\Users\\wangningyu\\miniconda3\\bin;C:\\Users\\wangningyu\\miniconda3\\condabin;C:\\Program Files\\NVIDIA GPU Computing Toolkit\\CUDA\\v11.8\\bin;C:\\Program Files\\NVIDIA GPU Computing Toolkit\\CUDA\\v11.8\\libnvvp;C:\\Program Files (x86)\\NVIDIA Corporation\\PhysX\\Common;C:\\Windows\\system32;C:\\Windows;C:\\Windows\\System32\\Wbem;C:\\Windows\\System32\\WindowsPowerShell\\v1.0;C:\\Windows\\System32\\OpenSSH;C:\\Program Files (x86)\\Pulse Secure\\VC142.CRT\\X64;C:\\Program Files (x86)\\Pulse Secure\\VC142.CRT\\X86;C:\\Program Files\\Common Files\\Autodesk Shared;C:\\Program Files\\Microsoft SQL Server\\120\\Tools\\Binn;C:\\Program Files\\Microsoft SQL Server\\Client SDK\\ODBC\\110\\Tools\\Binn;C:\\Program Files (x86)\\Microsoft SQL Server\\120\\Tools\\Binn;C:\\Program Files\\Microsoft SQL Server\\120\\DTS\\Binn;C:\\Program Files (x86)\\Windows Kits\\8.1\\Windows Performance Toolkit;C:\\Program Files\\Wolfram Research\\WolframScript;C:\\Program Files\\Polyspace\\R2021a\\runtime\\win64;C:\\Program Files\\Polyspace\\R2021a\\bin;C:\\Program Files\\Polyspace\\R2021a\\polyspace\\bin;C:\\Program Files\\NVIDIA Corporation\\Nsight Compute 2022.3.0;C:\\ProgramData\\java\\openjdk-19.0.1\\bin;C:\\Users\\wangningyu\\AppData\\Local\\Microsoft\\WindowsApps;C:\\Users\\wangningyu\\AppData\\Local\\Programs\\Git\\cmd;C:\\Users\\wangningyu\\AppData\\Local\\Programs\\Microsoft VS Code\\bin;.\n"
     ]
    }
   ],
   "source": [
    "import os\n",
    "import platform\n",
    "\n",
    "# os.chdir(os.getcwd() + '\\\\big_img_in')\n",
    "print(\"platform=\", platform.system())\n",
    "print(\"cwd=\", os.getcwd())\n",
    "\n",
    "if platform.system() == 'Windows':\n",
    "    openslide_path = os.getcwd() + \"\\\\lib\\\\openslide-win64-20171122\\\\bin\"\n",
    "    os.environ['PATH'] = openslide_path + \";\" + os.environ['PATH']\n",
    "    print(\"PATH=\", os.environ['PATH'])\n",
    "\n",
    "import openslide"
   ]
  },
  {
   "cell_type": "code",
   "execution_count": null,
   "metadata": {},
   "outputs": [],
   "source": [
    "# file = r'.\\50-80.svs'\n",
    "# file = r'.\\zhangainong_Wholeslide_Default_Extended.tif'\n",
    "file = r'.\\20220705_anhui_5\\88-50_Wholeslide_Default_Extended.tif'\n",
    "\n",
    "# whole slide image\n",
    "wsi = openslide.OpenSlide(file)"
   ]
  },
  {
   "cell_type": "code",
   "execution_count": null,
   "metadata": {},
   "outputs": [],
   "source": [
    "def print_wsi_info(wsi):\n",
    "    # print(wsi.properties)\n",
    "\n",
    "    print('detect_format:', wsi.detect_format('./xiaoai0520/50-15.svs'))\n",
    "    print('COMMENT:', wsi.properties[openslide.PROPERTY_NAME_COMMENT])\n",
    "    print('VENDOR:', wsi.properties[openslide.PROPERTY_NAME_VENDOR])\n",
    "\n",
    "    print('level_count:', wsi.level_count)\n",
    "    print('dimensions:', wsi.dimensions)\n",
    "    print('level_dimensions:', wsi.level_dimensions)\n",
    "    print('level_downsamples:', wsi.level_downsamples)\n",
    "\n",
    "print_wsi_info(wsi)"
   ]
  },
  {
   "cell_type": "code",
   "execution_count": null,
   "metadata": {},
   "outputs": [],
   "source": [
    "associated_images = wsi.associated_images\n",
    "for key in associated_images._keys():\n",
    "    print('associated_images - ',key)\n",
    "    display(associated_images[key])"
   ]
  },
  {
   "cell_type": "code",
   "execution_count": 3,
   "metadata": {},
   "outputs": [],
   "source": [
    "import PIL.Image\n",
    "\n",
    "def convert_raw_image(file):\n",
    "    CUT_NUM = 4\n",
    "    RATIO = 2\n",
    "\n",
    "    print('opening', file)\n",
    "    wsi = openslide.OpenSlide(file)\n",
    "\n",
    "    width = int(wsi.dimensions[0] / CUT_NUM)\n",
    "    height = int(wsi.dimensions[1] / CUT_NUM)\n",
    "    offset_list = []\n",
    "    for i in range(CUT_NUM):\n",
    "        for j in range(CUT_NUM):\n",
    "            offset_list.append((i * width, j * height))\n",
    "\n",
    "    new_img = PIL.Image.new('RGB', (int(wsi.dimensions[0] / RATIO), int(wsi.dimensions[1] / RATIO)))\n",
    "    jpg_file = os.path.splitext(file)[0] + '_resize.jpg'\n",
    "\n",
    "    for i in range(len(offset_list)):\n",
    "        # print('reading ', i)\n",
    "        img = wsi.read_region(offset_list[i], 0, (width, height))\n",
    "        img = img.convert('RGB')\n",
    "        img = img.resize((int(width / RATIO), int(height / RATIO)))\n",
    "        # img.save(jpg_file + \".\" + str(i))\n",
    "        new_img.paste(img, (int(offset_list[i][0] / RATIO), int(offset_list[i][1] / RATIO)))\n",
    "\n",
    "    print('saving to', jpg_file)\n",
    "    new_img.save(jpg_file)"
   ]
  },
  {
   "cell_type": "code",
   "execution_count": null,
   "metadata": {},
   "outputs": [],
   "source": [
    "convert_raw_image('.\\20220705_anhui_5\\88-50_Wholeslide_Default_Extended.tif')"
   ]
  },
  {
   "cell_type": "code",
   "execution_count": 4,
   "metadata": {},
   "outputs": [
    {
     "name": "stdout",
     "output_type": "stream",
     "text": [
      "opening ./2023.2.7/ah14-50-114_Wholeslide_Default_Extended.tif\n",
      "saving to ./2023.2.7/ah14-50-114_Wholeslide_Default_Extended_resize.jpg\n",
      "opening ./2023.2.7/ah14-50-115_Wholeslide_Default_Extended.tif\n",
      "saving to ./2023.2.7/ah14-50-115_Wholeslide_Default_Extended_resize.jpg\n",
      "opening ./2023.2.7/ah14-50-118_Wholeslide_Default_Extended.tif\n",
      "saving to ./2023.2.7/ah14-50-118_Wholeslide_Default_Extended_resize.jpg\n",
      "opening ./2023.2.7/AH14-50-119_Wholeslide_Default_Extended.tif\n",
      "saving to ./2023.2.7/AH14-50-119_Wholeslide_Default_Extended_resize.jpg\n",
      "opening ./2023.2.7/AH14-50-121_Wholeslide_Default_Extended.tif\n",
      "saving to ./2023.2.7/AH14-50-121_Wholeslide_Default_Extended_resize.jpg\n",
      "opening ./2023.2.7/AH14-50-122_Wholeslide_Default_Extended.tif\n",
      "saving to ./2023.2.7/AH14-50-122_Wholeslide_Default_Extended_resize.jpg\n",
      "opening ./2023.2.7/AH14-50-123_Wholeslide_Default_Extended.tif\n",
      "saving to ./2023.2.7/AH14-50-123_Wholeslide_Default_Extended_resize.jpg\n",
      "opening ./2023.2.7/AH14-50-124_Wholeslide_Default_Extended.tif\n",
      "saving to ./2023.2.7/AH14-50-124_Wholeslide_Default_Extended_resize.jpg\n",
      "opening ./2023.2.7/AH14-50-125_Wholeslide_Default_Extended.tif\n",
      "saving to ./2023.2.7/AH14-50-125_Wholeslide_Default_Extended_resize.jpg\n",
      "opening ./2023.2.7/AH14-50-126_Wholeslide_Default_Extended.tif\n",
      "saving to ./2023.2.7/AH14-50-126_Wholeslide_Default_Extended_resize.jpg\n",
      "opening ./2023.2.7/AH14-50-127_Wholeslide_Default_Extended.tif\n",
      "saving to ./2023.2.7/AH14-50-127_Wholeslide_Default_Extended_resize.jpg\n",
      "opening ./2023.2.7/AH14-50-128_Wholeslide_Default_Extended.tif\n",
      "saving to ./2023.2.7/AH14-50-128_Wholeslide_Default_Extended_resize.jpg\n",
      "opening ./2023.2.7/AH4-50-100_Wholeslide_Default_Extended.tif\n",
      "saving to ./2023.2.7/AH4-50-100_Wholeslide_Default_Extended_resize.jpg\n",
      "opening ./2023.2.7/AH4-50-101_Wholeslide_Default_Extended.tif\n",
      "saving to ./2023.2.7/AH4-50-101_Wholeslide_Default_Extended_resize.jpg\n",
      "opening ./2023.2.7/AH4-50-102_Wholeslide_Default_Extended.tif\n",
      "saving to ./2023.2.7/AH4-50-102_Wholeslide_Default_Extended_resize.jpg\n",
      "opening ./2023.2.7/AH4-50-103_Wholeslide_Default_Extended.tif\n",
      "saving to ./2023.2.7/AH4-50-103_Wholeslide_Default_Extended_resize.jpg\n",
      "opening ./2023.2.7/AH4-50-104_Wholeslide_Default_Extended.tif\n",
      "saving to ./2023.2.7/AH4-50-104_Wholeslide_Default_Extended_resize.jpg\n",
      "opening ./2023.2.7/AH4-50-105_Wholeslide_Default_Extended.tif\n",
      "saving to ./2023.2.7/AH4-50-105_Wholeslide_Default_Extended_resize.jpg\n",
      "opening ./2023.2.7/ah4-50-106_Wholeslide_Default_Extended.tif\n",
      "saving to ./2023.2.7/ah4-50-106_Wholeslide_Default_Extended_resize.jpg\n",
      "opening ./2023.2.7/ah4-50-107_Wholeslide_Default_Extended.tif\n",
      "saving to ./2023.2.7/ah4-50-107_Wholeslide_Default_Extended_resize.jpg\n",
      "opening ./2023.2.7/ah4-50-108_Wholeslide_Default_Extended.tif\n",
      "saving to ./2023.2.7/ah4-50-108_Wholeslide_Default_Extended_resize.jpg\n",
      "opening ./2023.2.7/AH4-50-82_Wholeslide_Default_Extended.tif\n",
      "saving to ./2023.2.7/AH4-50-82_Wholeslide_Default_Extended_resize.jpg\n",
      "opening ./2023.2.7/AH4-50-83_Wholeslide_Default_Extended.tif\n",
      "saving to ./2023.2.7/AH4-50-83_Wholeslide_Default_Extended_resize.jpg\n",
      "opening ./2023.2.7/AH4-50-87_Wholeslide_Default_Extended.tif\n",
      "saving to ./2023.2.7/AH4-50-87_Wholeslide_Default_Extended_resize.jpg\n",
      "opening ./2023.2.7/AH4-50-88_Wholeslide_Default_Extended.tif\n",
      "saving to ./2023.2.7/AH4-50-88_Wholeslide_Default_Extended_resize.jpg\n",
      "opening ./2023.2.7/AH4-50-89_Wholeslide_Default_Extended.tif\n",
      "saving to ./2023.2.7/AH4-50-89_Wholeslide_Default_Extended_resize.jpg\n",
      "opening ./2023.2.7/AH4-50-90_Wholeslide_Default_Extended.tif\n",
      "saving to ./2023.2.7/AH4-50-90_Wholeslide_Default_Extended_resize.jpg\n",
      "opening ./2023.2.7/AH4-50-91_Wholeslide_Default_Extended.tif\n",
      "saving to ./2023.2.7/AH4-50-91_Wholeslide_Default_Extended_resize.jpg\n",
      "opening ./2023.2.7/AH4-50-92_Wholeslide_Default_Extended.tif\n",
      "saving to ./2023.2.7/AH4-50-92_Wholeslide_Default_Extended_resize.jpg\n",
      "opening ./2023.2.7/AH4-50-93_Wholeslide_Default_Extended.tif\n",
      "saving to ./2023.2.7/AH4-50-93_Wholeslide_Default_Extended_resize.jpg\n",
      "opening ./2023.2.7/AH4-50-94_Wholeslide_Default_Extended.tif\n",
      "saving to ./2023.2.7/AH4-50-94_Wholeslide_Default_Extended_resize.jpg\n",
      "opening ./2023.2.7/AH4-50-95_Wholeslide_Default_Extended.tif\n",
      "saving to ./2023.2.7/AH4-50-95_Wholeslide_Default_Extended_resize.jpg\n",
      "opening ./2023.2.7/AH4-50-96_Wholeslide_Default_Extended.tif\n",
      "saving to ./2023.2.7/AH4-50-96_Wholeslide_Default_Extended_resize.jpg\n",
      "opening ./2023.2.7/AH4-50-97_Wholeslide_Default_Extended.tif\n",
      "saving to ./2023.2.7/AH4-50-97_Wholeslide_Default_Extended_resize.jpg\n",
      "opening ./2023.2.7/AH4-50-99_Wholeslide_Default_Extended.tif\n",
      "saving to ./2023.2.7/AH4-50-99_Wholeslide_Default_Extended_resize.jpg\n"
     ]
    }
   ],
   "source": [
    "import os\n",
    "from pathlib import Path\n",
    "\n",
    "# img_dir = \"./20220705_anhui_5\"\n",
    "# img_dir = \"./20220718_9_rescan\"\n",
    "# img_dir = \"./20220719_5_rescan\"\n",
    "img_dir = \"./2023.2.7\"\n",
    "\n",
    "for root, ds, fs in os.walk(img_dir):\n",
    "    for f in fs:\n",
    "        fullname = os.path.join(root + '/', f)\n",
    "        if Path(fullname).suffix == '.tif':\n",
    "            convert_raw_image(fullname)"
   ]
  }
 ],
 "metadata": {
  "kernelspec": {
   "display_name": "Python 3.9.12 ('base')",
   "language": "python",
   "name": "python3"
  },
  "language_info": {
   "codemirror_mode": {
    "name": "ipython",
    "version": 3
   },
   "file_extension": ".py",
   "mimetype": "text/x-python",
   "name": "python",
   "nbconvert_exporter": "python",
   "pygments_lexer": "ipython3",
   "version": "3.9.12"
  },
  "orig_nbformat": 4,
  "vscode": {
   "interpreter": {
    "hash": "dd1eb07ff9a2f67518218cffdff8c134eb7aec14caf20dbb3f618525753926e5"
   }
  }
 },
 "nbformat": 4,
 "nbformat_minor": 2
}
