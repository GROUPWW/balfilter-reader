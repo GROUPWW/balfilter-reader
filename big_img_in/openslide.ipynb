{
 "cells": [
  {
   "cell_type": "markdown",
   "metadata": {},
   "source": [
    "install openslide on Fedora:\n",
    "\n",
    "```bash\n",
    "sudo dnf install python3-openslide\n",
    "pip install openslide-python, pprint\n",
    "```"
   ]
  },
  {
   "cell_type": "code",
   "execution_count": 1,
   "metadata": {},
   "outputs": [],
   "source": [
    "import os\n",
    "import platform\n",
    "\n",
    "if platform.system() == 'Windows':\n",
    "    openslide_path = os.getcwd() + \"\\\\lib\\\\openslide-win64-20171122\\\\bin\"\n",
    "    os.environ['PATH'] = openslide_path + \";\" + os.environ['PATH']\n",
    "\n",
    "import openslide"
   ]
  },
  {
   "cell_type": "code",
   "execution_count": null,
   "metadata": {},
   "outputs": [],
   "source": [
    "# file = r'.\\50-80.svs'\n",
    "# file = r'.\\zhangainong_Wholeslide_Default_Extended.tif'\n",
    "file = r'.\\20220705_anhui_5\\88-50_Wholeslide_Default_Extended.tif'\n",
    "\n",
    "# whole slide image\n",
    "wsi = openslide.OpenSlide(file)"
   ]
  },
  {
   "cell_type": "code",
   "execution_count": null,
   "metadata": {},
   "outputs": [],
   "source": [
    "def print_wsi_info(wsi):\n",
    "    # print(wsi.properties)\n",
    "\n",
    "    print('detect_format:', wsi.detect_format('./xiaoai0520/50-15.svs'))\n",
    "    print('COMMENT:', wsi.properties[openslide.PROPERTY_NAME_COMMENT])\n",
    "    print('VENDOR:', wsi.properties[openslide.PROPERTY_NAME_VENDOR])\n",
    "\n",
    "    print('level_count:', wsi.level_count)\n",
    "    print('dimensions:', wsi.dimensions)\n",
    "    print('level_dimensions:', wsi.level_dimensions)\n",
    "    print('level_downsamples:', wsi.level_downsamples)\n",
    "\n",
    "print_wsi_info(wsi)"
   ]
  },
  {
   "cell_type": "code",
   "execution_count": null,
   "metadata": {},
   "outputs": [],
   "source": [
    "associated_images = wsi.associated_images\n",
    "for key in associated_images._keys():\n",
    "    print('associated_images - ',key)\n",
    "    display(associated_images[key])"
   ]
  },
  {
   "cell_type": "code",
   "execution_count": 6,
   "metadata": {},
   "outputs": [],
   "source": [
    "import PIL.Image\n",
    "\n",
    "def convert_raw_image(file):\n",
    "    CUT_NUM = 4\n",
    "    RATIO = 2\n",
    "\n",
    "    print('opening', file)\n",
    "    wsi = openslide.OpenSlide(file)\n",
    "\n",
    "    width = int(wsi.dimensions[0] / CUT_NUM)\n",
    "    height = int(wsi.dimensions[1] / CUT_NUM)\n",
    "    offset_list = []\n",
    "    for i in range(CUT_NUM):\n",
    "        for j in range(CUT_NUM):\n",
    "            offset_list.append((i * width, j * height))\n",
    "\n",
    "    new_img = PIL.Image.new('RGB', (int(wsi.dimensions[0] / RATIO), int(wsi.dimensions[1] / RATIO)))\n",
    "    jpg_file = os.path.splitext(file)[0] + '_resize.jpg'\n",
    "\n",
    "    for i in range(len(offset_list)):\n",
    "        # print('reading ', i)\n",
    "        img = wsi.read_region(offset_list[i], 0, (width, height))\n",
    "        img = img.convert('RGB')\n",
    "        img = img.resize((int(width / RATIO), int(height / RATIO)))\n",
    "        # img.save(jpg_file + \".\" + str(i))\n",
    "        new_img.paste(img, (int(offset_list[i][0] / RATIO), int(offset_list[i][1] / RATIO)))\n",
    "\n",
    "    print('saving to', jpg_file)\n",
    "    new_img.save(jpg_file)"
   ]
  },
  {
   "cell_type": "code",
   "execution_count": null,
   "metadata": {},
   "outputs": [],
   "source": [
    "convert_raw_image('.\\20220705_anhui_5\\88-50_Wholeslide_Default_Extended.tif')"
   ]
  },
  {
   "cell_type": "code",
   "execution_count": 8,
   "metadata": {},
   "outputs": [
    {
     "name": "stdout",
     "output_type": "stream",
     "text": [
      "opening ./20220719_5_rescan/020.tif\n",
      "saving to ./20220719_5_rescan/020_resize.jpg\n",
      "opening ./20220719_5_rescan/024.tif\n",
      "saving to ./20220719_5_rescan/024_resize.jpg\n",
      "opening ./20220719_5_rescan/025.tif\n",
      "saving to ./20220719_5_rescan/025_resize.jpg\n",
      "opening ./20220719_5_rescan/028.tif\n",
      "saving to ./20220719_5_rescan/028_resize.jpg\n",
      "opening ./20220719_5_rescan/029.tif\n",
      "saving to ./20220719_5_rescan/029_resize.jpg\n"
     ]
    }
   ],
   "source": [
    "import os\n",
    "from pathlib import Path\n",
    "\n",
    "# img_dir = \"./20220705_anhui_5\"\n",
    "# img_dir = \"./20220718_9_rescan\"\n",
    "img_dir = \"./20220719_5_rescan\"\n",
    "\n",
    "for root, ds, fs in os.walk(img_dir):\n",
    "    for f in fs:\n",
    "        fullname = os.path.join(root + '/', f)\n",
    "        if Path(fullname).suffix == '.tif':\n",
    "            convert_raw_image(fullname)"
   ]
  }
 ],
 "metadata": {
  "kernelspec": {
   "display_name": "Python 3.9.12 ('base')",
   "language": "python",
   "name": "python3"
  },
  "language_info": {
   "codemirror_mode": {
    "name": "ipython",
    "version": 3
   },
   "file_extension": ".py",
   "mimetype": "text/x-python",
   "name": "python",
   "nbconvert_exporter": "python",
   "pygments_lexer": "ipython3",
   "version": "3.7.13"
  },
  "orig_nbformat": 4,
  "vscode": {
   "interpreter": {
    "hash": "e407e07c03ee40ada2acc9645b61ca46ebbf88d1bab02110138c9cabf25594b0"
   }
  }
 },
 "nbformat": 4,
 "nbformat_minor": 2
}
